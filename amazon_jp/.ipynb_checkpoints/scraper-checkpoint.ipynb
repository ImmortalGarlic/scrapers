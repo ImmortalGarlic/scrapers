{
 "cells": [
  {
   "cell_type": "code",
   "execution_count": 1,
   "metadata": {},
   "outputs": [],
   "source": [
    "from bs4 import BeautifulSoup\n",
    "import pprint\n",
    "from selenium import webdriver\n",
    "from selenium.webdriver.chrome.options import Options\n",
    "\n",
    "# selenium initial setting\n",
    "chrome_options = Options()\n",
    "chrome_options.add_argument(\"--headless\")\n",
    "chrome_options.add_argument(\"--disable-gpu\")\n",
    "exec_path = \"./chromedriver\"\n",
    "driver = webdriver.Chrome(executable_path=exec_path, chrome_options=chrome_options)"
   ]
  },
  {
   "cell_type": "code",
   "execution_count": 2,
   "metadata": {},
   "outputs": [],
   "source": [
    "# items' comments href\n",
    "url = \"https://www.amazon.co.jp/s?k=true+wireless+earbuds&page=1&__mk_ja_JP=%E3%82%AB%E3%82%BF%E3%82%AB%E3%83%8A&crid=2QAJYCU4MDBYY&qid=1571665338&sprefix=true+wireless%2Caps%2C262&ref=sr_pg_2\"\n",
    "driver.get(url)\n",
    "page_src = driver.page_source\n",
    "soup = BeautifulSoup(page_src, \"lxml\")\n",
    "item_list = soup.find_all(lambda tag: tag.name == \"a\" and tag.get(\"class\") == [\"a-link-normal\"], href = True)"
   ]
  },
  {
   "cell_type": "code",
   "execution_count": 3,
   "metadata": {},
   "outputs": [
    {
     "data": {
      "text/plain": [
       "'/gp/slredirect/picassoRedirect.html/ref=pa_sp_atf_aps_sr_pg1_1?ie=UTF8&adId=AOM8VXSKHQV19&url=%2F%25E3%2580%2590%25E9%2580%25B2%25E5%258C%2596%25E7%2589%2588Bluetooth5-0-150%25E6%2599%2582%25E9%2596%2593%25E9%2580%25A3%25E7%25B6%259A%25E9%25A7%2586%25E5%258B%2595-5000mAh%25E8%25B6%2585%25E5%25A4%25A7%25E5%25AE%25B9%25E9%2587%258F%25E3%2580%2591-Bluetooth-CVC8-0%25E3%2583%258E%25E3%2582%25A4%25E3%2582%25BA%25E3%2582%25AD%25E3%2583%25A3%25E3%2583%25B3%25E3%2582%25BB%25E3%2583%25AA%25E3%2583%25B3%25E3%2582%25B0%2Fdp%2FB07SDNYG2R%2Fref%3Dsr_1_1_sspa%3F__mk_ja_JP%3D%25E3%2582%25AB%25E3%2582%25BF%25E3%2582%25AB%25E3%2583%258A%26crid%3D2QAJYCU4MDBYY%26keywords%3Dtrue%2Bwireless%2Bearbuds%26qid%3D1572176493%26sprefix%3Dtrue%2Bwireless%252Caps%252C262%26sr%3D8-1-spons%26psc%3D1&qualifier=1572176493&id=573088064318707&widgetName=sp_atf'"
      ]
     },
     "execution_count": 3,
     "metadata": {},
     "output_type": "execute_result"
    }
   ],
   "source": [
    "item_list[0]['href']"
   ]
  },
  {
   "cell_type": "code",
   "execution_count": 7,
   "metadata": {},
   "outputs": [
    {
     "data": {
      "text/plain": [
       "False"
      ]
     },
     "execution_count": 7,
     "metadata": {},
     "output_type": "execute_result"
    }
   ],
   "source": [
    "# if true\n",
    "url = \"https://www.amazon.co.jp\" + item_list[0][\"href\"]\n",
    "driver.get(url)\n",
    "page_src = driver.page_source\n",
    "soup = BeautifulSoup(page_src, \"lxml\")\n",
    "h2_list = soup.find_all(lambda tag: tag.name == \"h2\", text = True)\n",
    "h2_string = \". \".join([str(x) for x in h2_list])\n",
    "\"まだカスタマーレビューはありません\" in h2_string"
   ]
  },
  {
   "cell_type": "code",
   "execution_count": 8,
   "metadata": {},
   "outputs": [
    {
     "data": {
      "text/plain": [
       "'https://www.amazon.co.jp/gp/slredirect/picassoRedirect.html/ref=pa_sp_atf_aps_sr_pg1_1?ie=UTF8&adId=AOM8VXSKHQV19&url=%2F%25E3%2580%2590%25E9%2580%25B2%25E5%258C%2596%25E7%2589%2588Bluetooth5-0-150%25E6%2599%2582%25E9%2596%2593%25E9%2580%25A3%25E7%25B6%259A%25E9%25A7%2586%25E5%258B%2595-5000mAh%25E8%25B6%2585%25E5%25A4%25A7%25E5%25AE%25B9%25E9%2587%258F%25E3%2580%2591-Bluetooth-CVC8-0%25E3%2583%258E%25E3%2582%25A4%25E3%2582%25BA%25E3%2582%25AD%25E3%2583%25A3%25E3%2583%25B3%25E3%2582%25BB%25E3%2583%25AA%25E3%2583%25B3%25E3%2582%25B0%2Fdp%2FB07SDNYG2R%2Fref%3Dsr_1_1_sspa%3F__mk_ja_JP%3D%25E3%2582%25AB%25E3%2582%25BF%25E3%2582%25AB%25E3%2583%258A%26crid%3D2QAJYCU4MDBYY%26keywords%3Dtrue%2Bwireless%2Bearbuds%26qid%3D1572176493%26sprefix%3Dtrue%2Bwireless%252Caps%252C262%26sr%3D8-1-spons%26psc%3D1&qualifier=1572176493&id=573088064318707&widgetName=sp_atf'"
      ]
     },
     "execution_count": 8,
     "metadata": {},
     "output_type": "execute_result"
    }
   ],
   "source": [
    "url"
   ]
  },
  {
   "cell_type": "code",
   "execution_count": 19,
   "metadata": {},
   "outputs": [],
   "source": [
    "# if false\n",
    "url = \"https://www.amazon.co.jp\" + item_list[0][\"href\"]\n",
    "driver.get(url)\n",
    "page_src = driver.page_source\n",
    "soup = BeautifulSoup(page_src, \"lxml\")\n",
    "url = [str(x) for x in soup.find_all(lambda tag: tag.name == \"a\") if \"see-all-reviews-link-foot\" in str(x)]\n",
    "url = \"https://ww.amazon.co.jp\" + url[0][url[0].find('href=')+6 : url[0].find('\">すべてのカスタマー')]"
   ]
  },
  {
   "cell_type": "code",
   "execution_count": 20,
   "metadata": {},
   "outputs": [],
   "source": [
    "# all review page for one item\n",
    "soup = BeautifulSoup(page_src, \"lxml\")\n",
    "url = [x for x in soup.find_all(lambda tag: tag.name == \"a\", href = True) if \"see-all-reviews\" in str(x)]"
   ]
  },
  {
   "cell_type": "code",
   "execution_count": 14,
   "metadata": {},
   "outputs": [
    {
     "data": {
      "text/plain": [
       "'/【進化版Bluetooth5-0-150時間連続駆動-5000mAh超大容量】-Bluetooth-CVC8-0ノイズキャンセリング/product-reviews/B07SDNYG2R/ref=cm_cr_dp_d_show_all_btm?ie=UTF8&reviewerType=all_reviews'"
      ]
     },
     "execution_count": 14,
     "metadata": {},
     "output_type": "execute_result"
    }
   ],
   "source": [
    "url[0]['href']"
   ]
  },
  {
   "cell_type": "code",
   "execution_count": 21,
   "metadata": {},
   "outputs": [],
   "source": [
    "#comment section\n",
    "url = \"https://www.amazon.co.jp\" + url[0][\"href\"]\n",
    "driver.get(url)\n",
    "page_src = driver.page_source\n",
    "soup = BeautifulSoup(page_src, \"lxml\")"
   ]
  },
  {
   "cell_type": "code",
   "execution_count": 39,
   "metadata": {},
   "outputs": [],
   "source": [
    "cmt_num_txt = soup.find(\"span\", {\"class\": \"a-size-base a-color-secondary\"}).get_text()\n",
    "cmt_num_txt = cmt_num_txt[cmt_num_txt.find(\"数 \")+2:].replace(\",\", \"\")\n",
    "\n",
    "star_txt = [str(x) for x in soup.find_all(\"a\", {\"class\": \"a-link-normal\"}) if \"付いています\" in str(x)]\n",
    "star_txt = [x for i, x in enumerate(star_txt) if i%3 == 0]\n",
    "star_txt = [x[x.find(\"レビューの\")+5:x.find(\"に星\")-1] for x in star_txt]"
   ]
  },
  {
   "cell_type": "code",
   "execution_count": 45,
   "metadata": {},
   "outputs": [],
   "source": [
    "import math\n",
    "\n",
    "maxPageNum = math.ceil(int(cmt_num_txt)/10)"
   ]
  },
  {
   "cell_type": "code",
   "execution_count": 46,
   "metadata": {},
   "outputs": [
    {
     "data": {
      "text/plain": [
       "103"
      ]
     },
     "execution_count": 46,
     "metadata": {},
     "output_type": "execute_result"
    }
   ],
   "source": [
    "maxPageNum"
   ]
  }
 ],
 "metadata": {
  "kernelspec": {
   "display_name": "Python 3",
   "language": "python",
   "name": "python3"
  },
  "language_info": {
   "codemirror_mode": {
    "name": "ipython",
    "version": 3
   },
   "file_extension": ".py",
   "mimetype": "text/x-python",
   "name": "python",
   "nbconvert_exporter": "python",
   "pygments_lexer": "ipython3",
   "version": "3.6.1"
  }
 },
 "nbformat": 4,
 "nbformat_minor": 2
}
