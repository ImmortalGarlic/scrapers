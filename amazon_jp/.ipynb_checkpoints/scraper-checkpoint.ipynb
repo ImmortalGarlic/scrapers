{
 "cells": [
  {
   "cell_type": "code",
   "execution_count": 4,
   "metadata": {},
   "outputs": [],
   "source": [
    "from bs4 import BeautifulSoup\n",
    "import pprint\n",
    "from selenium import webdriver\n",
    "from selenium.webdriver.chrome.options import Options\n",
    "\n",
    "# selenium initial setting\n",
    "chrome_options = Options()\n",
    "chrome_options.add_argument(\"--headless\")\n",
    "chrome_options.add_argument(\"--disable-gpu\")\n",
    "exec_path = \"./chromedriver\"\n",
    "driver = webdriver.Chrome(executable_path=exec_path, chrome_options=chrome_options)"
   ]
  },
  {
   "cell_type": "code",
   "execution_count": 6,
   "metadata": {},
   "outputs": [],
   "source": [
    "# items' comments href\n",
    "url = \"https://www.amazon.co.jp/s?k=true+wireless+earbuds&page=1&__mk_ja_JP=%E3%82%AB%E3%82%BF%E3%82%AB%E3%83%8A&crid=2QAJYCU4MDBYY&qid=1571665338&sprefix=true+wireless%2Caps%2C262&ref=sr_pg_2\"\n",
    "driver.get(url)\n",
    "page_src = driver.page_source\n",
    "soup = BeautifulSoup(page_src, \"lxml\")\n",
    "item_list = soup.find_all(lambda tag: tag.name == \"a\" and tag.get(\"class\") == [\"a-link-normal\"], href = True)"
   ]
  },
  {
   "cell_type": "code",
   "execution_count": 16,
   "metadata": {},
   "outputs": [],
   "source": []
  },
  {
   "cell_type": "code",
   "execution_count": 28,
   "metadata": {},
   "outputs": [
    {
     "data": {
      "text/plain": [
       "True"
      ]
     },
     "execution_count": 28,
     "metadata": {},
     "output_type": "execute_result"
    }
   ],
   "source": [
    "# if true\n",
    "url = \"https://ww.amazon.co.jp\" + item_list[0][\"href\"]\n",
    "driver.get(url)\n",
    "page_src = driver.page_source\n",
    "soup = BeautifulSoup(page_src, \"lxml\")\n",
    "h2_list = soup.find_all(lambda tag: tag.name == \"h2\", text = True)\n",
    "h2_string = \". \".join([str(x) for x in h2_list])\n",
    "\"まだカスタマーレビューはありません\" in h2_string"
   ]
  },
  {
   "cell_type": "code",
   "execution_count": 51,
   "metadata": {},
   "outputs": [
    {
     "ename": "NameError",
     "evalue": "name 'item_list' is not defined",
     "output_type": "error",
     "traceback": [
      "\u001b[0;31m---------------------------------------------------------------------------\u001b[0m",
      "\u001b[0;31mNameError\u001b[0m                                 Traceback (most recent call last)",
      "\u001b[0;32m<ipython-input-51-fa3b0e0e2b83>\u001b[0m in \u001b[0;36m<module>\u001b[0;34m()\u001b[0m\n\u001b[1;32m      1\u001b[0m \u001b[0;31m# if false\u001b[0m\u001b[0;34m\u001b[0m\u001b[0;34m\u001b[0m\u001b[0m\n\u001b[0;32m----> 2\u001b[0;31m \u001b[0murl\u001b[0m \u001b[0;34m=\u001b[0m \u001b[0;34m\"https://ww.amazon.co.jp\"\u001b[0m \u001b[0;34m+\u001b[0m \u001b[0mitem_list\u001b[0m\u001b[0;34m[\u001b[0m\u001b[0;36m0\u001b[0m\u001b[0;34m]\u001b[0m\u001b[0;34m[\u001b[0m\u001b[0;34m\"href\"\u001b[0m\u001b[0;34m]\u001b[0m\u001b[0;34m\u001b[0m\u001b[0m\n\u001b[0m\u001b[1;32m      3\u001b[0m \u001b[0mdriver\u001b[0m\u001b[0;34m.\u001b[0m\u001b[0mget\u001b[0m\u001b[0;34m(\u001b[0m\u001b[0murl\u001b[0m\u001b[0;34m)\u001b[0m\u001b[0;34m\u001b[0m\u001b[0m\n\u001b[1;32m      4\u001b[0m \u001b[0mpage_src\u001b[0m \u001b[0;34m=\u001b[0m \u001b[0mdriver\u001b[0m\u001b[0;34m.\u001b[0m\u001b[0mpage_source\u001b[0m\u001b[0;34m\u001b[0m\u001b[0m\n\u001b[1;32m      5\u001b[0m \u001b[0msoup\u001b[0m \u001b[0;34m=\u001b[0m \u001b[0mBeautifulSoup\u001b[0m\u001b[0;34m(\u001b[0m\u001b[0mpage_src\u001b[0m\u001b[0;34m,\u001b[0m \u001b[0;34m\"lxml\"\u001b[0m\u001b[0;34m)\u001b[0m\u001b[0;34m\u001b[0m\u001b[0m\n",
      "\u001b[0;31mNameError\u001b[0m: name 'item_list' is not defined"
     ]
    }
   ],
   "source": [
    "# if false\n",
    "url = \"https://ww.amazon.co.jp\" + item_list[0][\"href\"]\n",
    "driver.get(url)\n",
    "page_src = driver.page_source\n",
    "soup = BeautifulSoup(page_src, \"lxml\")\n",
    "url = [str(x) for x in soup.find_all(lambda tag: tag.name == \"a\") if \"see-all-reviews-link-foot\" in str(x)]\n",
    "url = \"https://ww.amazon.co.jp\" + url[0][url[0].find('href=')+6 : url[0].find('\">すべてのカスタマー')]"
   ]
  },
  {
   "cell_type": "code",
   "execution_count": 45,
   "metadata": {},
   "outputs": [
    {
     "data": {
      "text/plain": [
       "[<a class=\"a-link-emphasis a-text-bold\" data-hook=\"see-all-reviews-link-foot\" href=\"/SoundPEATS-サウンドピーツ-TrueFree-ワイヤレスイヤホン-Bluetooth/product-reviews/B07MX7V8XM/ref=cm_cr_dp_d_show_all_btm?ie=UTF8&amp;reviewerType=all_reviews\">すべてのカスタマーレビューを見る(1,152)</a>]"
      ]
     },
     "execution_count": 45,
     "metadata": {},
     "output_type": "execute_result"
    }
   ],
   "source": [
    "# all review page for one item\n",
    "soup = BeautifulSoup(page_src, \"lxml\")\n",
    "[x for x in soup.find_all(lambda tag: tag.name == \"a\", href = True) if \"see-all-reviews\" in str(x)]"
   ]
  },
  {
   "cell_type": "code",
   "execution_count": null,
   "metadata": {},
   "outputs": [],
   "source": []
  }
 ],
 "metadata": {
  "kernelspec": {
   "display_name": "Python 3",
   "language": "python",
   "name": "python3"
  },
  "language_info": {
   "codemirror_mode": {
    "name": "ipython",
    "version": 3
   },
   "file_extension": ".py",
   "mimetype": "text/x-python",
   "name": "python",
   "nbconvert_exporter": "python",
   "pygments_lexer": "ipython3",
   "version": "3.6.1"
  }
 },
 "nbformat": 4,
 "nbformat_minor": 2
}
