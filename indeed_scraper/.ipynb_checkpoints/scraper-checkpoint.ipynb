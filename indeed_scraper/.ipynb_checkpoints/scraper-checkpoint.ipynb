{
 "cells": [
  {
   "cell_type": "code",
   "execution_count": 28,
   "metadata": {},
   "outputs": [
    {
     "name": "stderr",
     "output_type": "stream",
     "text": [
      "/Library/Frameworks/Python.framework/Versions/3.6/lib/python3.6/site-packages/selenium/webdriver/phantomjs/webdriver.py:49: UserWarning: Selenium support for PhantomJS has been deprecated, please use headless versions of Chrome or Firefox instead\n",
      "  warnings.warn('Selenium support for PhantomJS has been deprecated, please use headless '\n"
     ]
    },
    {
     "name": "stdout",
     "output_type": "stream",
     "text": [
      "['1727a2aba64f3261', 'a4c16c1ca5e4c401', 'e378815e5d6fcb85', '0fe32167cf87c9f0', '6b16ad9481913650', '09530ac51cc5cc81', '2724f45031df992f', '89a00654b028ea22', 'ca1f8d94472e217a', '5a253dd7e07aab2a']\n"
     ]
    }
   ],
   "source": [
    "from selenium import webdriver\n",
    "from selenium.webdriver.support.ui import WebDriverWait\n",
    "from selenium.common.exceptions import NoSuchElementException\n",
    "from selenium.common.exceptions import NoSuchAttributeException\n",
    "from selenium.common.exceptions import NoSuchWindowException\n",
    "import time\n",
    "\n",
    "driver = webdriver.PhantomJS('/Users/yiyan_liu/Downloads/phantomjs-2.1.1-macosx/bin/phantomjs')\n",
    "url = \"https://www.indeed.com/jobs?q=data+scientist&start=20\"\n",
    "driver.get(url)\n",
    "desc = driver.find_elements_by_css_selector(\"div.row.result.clickcard\")\n",
    "ids = []\n",
    "for d in desc:\n",
    "    ids.append(d.get_attribute('data-jk'))\n",
    "print (ids)\n"
   ]
  },
  {
   "cell_type": "code",
   "execution_count": 30,
   "metadata": {},
   "outputs": [],
   "source": [
    "url2 = \"https://www.indeed.com/viewjob?jk=\"\n",
    "driver.get(url2+ids[0])\n",
    "text = driver.find_elements_by_tag_name('span')\n",
    "result = []\n",
    "for t in text:\n",
    "    result.append(t.text)"
   ]
  },
  {
   "cell_type": "code",
   "execution_count": 31,
   "metadata": {},
   "outputs": [
    {
     "data": {
      "text/plain": [
       "['',\n",
       " 'Find Jobs',\n",
       " 'Company Reviews',\n",
       " 'Find Salaries',\n",
       " 'Find Resumes',\n",
       " 'Employers / Post Job',\n",
       " 'Upload your resume',\n",
       " 'Upload your resume',\n",
       " 'Sign in',\n",
       " '',\n",
       " '',\n",
       " '',\n",
       " '',\n",
       " '',\n",
       " 'Perspecta',\n",
       " '',\n",
       " '',\n",
       " '9 reviews',\n",
       " 'Basking Ridge, NJ',\n",
       " 'Overview: Every day at Perspecta, we enable hundreds of thousands of people to take on our nation’s most important work. We’re a company founded on a diverse set of capabilities and skills, bound together by a single promise: we never stop solving our nation’s most complex challenges. We continually push ourselves—to respond, to adapt, to go further. To look ahead to the changing landscape and develop new and innovative ways to serve our customers.\\n\\nAs the innovation hub of Perspecta, Perspecta Labs is molding the future of emerging technologies. We refuse to think inside the box. Our experts conduct leading research in machine learning, artificial intelligence (AI), mobile communications and internet of things (IoT) technologies that provides customers with transformative insights and real-time situational intelligence. With your finger on the pulse of next-gen technology, you’ll be rewarded in many ways—not only through competitive salaries and benefits packages, but the opportunity to create a meaningful impact in jobs and on projects that matter.\\n\\nPerspecta’s talented and robust workforce—14,000 strong—stands ready to welcome you to the team. Let’s make an impact together. Perspecta is an AA/EEO Employer - Minorities/Women/Veterans/Disabled and other protected categories Responsibilities: Design and implement custom software to analyze and distill large volumes of digitized radio data. Develop algorithms and a framework to allow a system user to define custom queries and obtain reports or see visualization of multidimensional data including radio spectrum and signal data given the time and place of interest to the user.\\n\\nWork with sensor and signal processing teams to agree on data to be obtained to support the required data analytics. Work with GUI developers to support their visualization needs. Qualifications: Required Experience 5+ years’ experience in data analytics and algorithm development for scientific or industrial data 5+ years’ experience developing software on Linux platforms 5+ years’ experience coding in Java or C++ B.S. or M.S.\\n\\nin Computer Science, Electrical Engineering, or closely related field Must be a US citizen with willingness and ability to obtain a US government security clearance Desired experience Understanding of basic radio frequency concepts and terminology',\n",
       " '13 days ago',\n",
       " '- save job',\n",
       " '- original job',\n",
       " 'Verizon',\n",
       " 'Township of Warren, NJ',\n",
       " '11 days ago',\n",
       " 'TD Bank',\n",
       " 'Mount Laurel, NJ',\n",
       " '11 days ago',\n",
       " 'Knowledgent Group Inc.',\n",
       " 'Township of Warren, NJ',\n",
       " '18 days ago',\n",
       " 'SRS Investment Management',\n",
       " 'New York, NY',\n",
       " '30+ days ago',\n",
       " 'Easily apply',\n",
       " 'Altitude Staffing',\n",
       " 'Basking Ridge, NJ',\n",
       " '2 days ago',\n",
       " 'Easily apply',\n",
       " 'Follow',\n",
       " 'Follow',\n",
       " 'Get job updates from Perspecta',\n",
       " '',\n",
       " '',\n",
       " 'Upload Your Resume',\n",
       " 'Upload Your Resume',\n",
       " 'About',\n",
       " 'Upload Your Resume',\n",
       " '',\n",
       " '',\n",
       " '',\n",
       " '',\n",
       " '']"
      ]
     },
     "execution_count": 31,
     "metadata": {},
     "output_type": "execute_result"
    }
   ],
   "source": [
    "result"
   ]
  }
 ],
 "metadata": {
  "kernelspec": {
   "display_name": "Python 3",
   "language": "python",
   "name": "python3"
  },
  "language_info": {
   "codemirror_mode": {
    "name": "ipython",
    "version": 3
   },
   "file_extension": ".py",
   "mimetype": "text/x-python",
   "name": "python",
   "nbconvert_exporter": "python",
   "pygments_lexer": "ipython3",
   "version": "3.6.3"
  }
 },
 "nbformat": 4,
 "nbformat_minor": 2
}
