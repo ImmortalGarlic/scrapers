{
 "cells": [
  {
   "cell_type": "code",
   "execution_count": 23,
   "metadata": {},
   "outputs": [],
   "source": [
    "import requests, json, pprint\n",
    "from lxml import html\n",
    "\n",
    "urls = [\n",
    "    'https://instagram.userlocal.jp/?page=1',\n",
    "    'https://instagram.userlocal.jp/?page=2',\n",
    "    'https://instagram.userlocal.jp/?page=3',\n",
    "    'https://instagram.userlocal.jp/?page=4',\n",
    "    'https://instagram.userlocal.jp/?page=5',\n",
    "]\n",
    "\n",
    "r = requests.get(urls[0])\n",
    "tree = html.fromstring(r.text)\n",
    "\n",
    "names = tree.xpath('//td/h4/a/text()')\n",
    "hrefs = tree.xpath('//td/h4/a/@href')\n",
    "\n",
    "name_url_js = {x: {'idx': names.index(x), 'url': y} for x, y in zip(names, hrefs)}\n",
    "js = {}\n",
    "\n",
    "for n in names:\n",
    "    temp_r = requests.get(name_url_js[n]['url'])\n",
    "    temp_tree = html.fromstring(temp_r.text)\n",
    "    js[n] = {}\n",
    "    js[n]['hashtag'] = temp_tree.xpath('//div/div/span/text()')\n",
    "    js[n]['idx'] = name_url_js[n]['idx']\n",
    "\n",
    "print (js)\n",
    "# fp = open('./celebrity_hastags.json', 'w')\n",
    "# json.dump(js, fp)"
   ]
  },
  {
   "cell_type": "code",
   "execution_count": 28,
   "metadata": {},
   "outputs": [
    {
     "name": "stdout",
     "output_type": "stream",
     "text": [
      "['#スーモ (4,025)', '#ズーモス (297)', '#スーモくん (157)', '#スーモカウンター (79)', '#スーモサ (63)', '#スーモみたい (43)', '#スーモフ (33)', '#スーモスコープ (26)', '#スーモ君 (20)', '#スーモマガジン (19)', '#スーモくんみたい (12)', '#スーモじゃないよ (10)', '#スーモの森 (8)', '#スーモネット掲載スタート (8)', '#スーモみたいな植物 (7)', '#スーモクサーモン (7)', '#ズーモウチャン (6)', '#ズーモ (6)', '#スーモークサーモン (6)', '#スーモ住宅展示場 (6)', '#スーモリフォーム (6)', '#スーモネット掲載中 (5)', '#スーモ登録準備中 (5)', '#スーモク (4)', '#ズーモラ (4)', '#スーモのcm (4)', '#スーモ掲載 (4)', '#スーモ星 (3)', '#スーモがいっぱい (3)', '#スーモのさがしもの (3)', '#スーモにしか見えない (2)', '#スーモア (2)', '#スーモークツリー (2)', '#スーモデナランハ (2)', '#スーモでお部屋探し (2)', '#スーモじゃないよコキアだよ (2)', '#スーモさん (1)', '#スーモくんじゃないよ (1)', '#スーモ緑のカーテン (1)', '#スーモよりホームズ (1)', '#スーモcm (1)', '#スーモ会 (1)', '#スーモル (1)', '#スーモー (1)', '#スーモと (1)']\n"
     ]
    }
   ],
   "source": [
    "import requests, json, pprint\n",
    "from lxml import html\n",
    "\n",
    "urls = [\n",
    "    'https://websta.me/search/スーモ',\n",
    "]\n",
    "\n",
    "r = requests.get(urls[0])\n",
    "tree = html.fromstring(r.text)\n",
    "\n",
    "names = tree.xpath('//div[@class=\"row\"]/div/li/a/text()')\n",
    "\n",
    "print(names)"
   ]
  }
 ],
 "metadata": {
  "kernelspec": {
   "display_name": "Python 3",
   "language": "python",
   "name": "python3"
  },
  "language_info": {
   "codemirror_mode": {
    "name": "ipython",
    "version": 3
   },
   "file_extension": ".py",
   "mimetype": "text/x-python",
   "name": "python",
   "nbconvert_exporter": "python",
   "pygments_lexer": "ipython3",
   "version": "3.5.3"
  }
 },
 "nbformat": 4,
 "nbformat_minor": 2
}
