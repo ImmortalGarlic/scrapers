{
 "cells": [
  {
   "cell_type": "markdown",
   "metadata": {},
   "source": [
    "## JSDA scraper using Selenium and Chrome webdriver\n",
    "### Requirements:\n",
    "- Chrome browser\n",
    "- Chrome Webdriver. Download it here:http://chromedriver.chromium.org/\n",
    "- Python packages:\n",
    "  - Selenium"
   ]
  },
  {
   "cell_type": "markdown",
   "metadata": {},
   "source": [
    "### **Note**: \n",
    "- You should not use your mouse to click around when the scraper is running!\n",
    "- And also set the time range of the data before running it."
   ]
  },
  {
   "cell_type": "code",
   "execution_count": 50,
   "metadata": {},
   "outputs": [],
   "source": [
    "import datetime as dt\n",
    "\n",
    "start = dt.datetime.strptime(\"2018-1-1\", \"%Y-%m-%d\")\n",
    "end = dt.datetime.strptime(\"2018-12-31\", \"%Y-%m-%d\")\n",
    "date_generated = [start + dt.timedelta(days=x) for x in range(0, (end-start).days+1)]"
   ]
  },
  {
   "cell_type": "code",
   "execution_count": 49,
   "metadata": {},
   "outputs": [],
   "source": [
    "from selenium import webdriver\n",
    "from selenium.webdriver.chrome.options import Options\n",
    "from selenium.common.exceptions import NoSuchElementException\n",
    "\n",
    "options = Options()\n",
    "options.binary_location = \"yourchromebinarypath\"\n",
    "#options.add_argument('--headless')\n",
    "options.add_argument(\"download.default_directory='somepath'\")\n",
    "driver = webdriver.Chrome(options=options, executable_path='yourwebdriverpath')\n",
    "\n",
    "target_url = 'http://market.jsda.or.jp/html/saiken/kehai/downloadInput.php'\n",
    "driver.get(target_url)"
   ]
  },
  {
   "cell_type": "code",
   "execution_count": 51,
   "metadata": {},
   "outputs": [],
   "source": [
    "def AutoClick(datetime):\n",
    "    try:\n",
    "        # click radio button '格付けマトリクス'\n",
    "        driver.find_element_by_css_selector(\"input[name='dataType'][type='radio'][value='R']\").click()\n",
    "\n",
    "        # select time range\n",
    "        time = datetime\n",
    "        driver.find_element_by_xpath(\".//select[@name='dlDateYear' and \\\n",
    "                                        @class='inputBold'] \\\n",
    "                                        /option[text()='{}']\".format(time[0])).click()\n",
    "        driver.find_element_by_xpath(\".//select[@name='dlDateMon' and \\\n",
    "                                        @class='inputBold'] \\\n",
    "                                        /option[text()='{}']\".format(time[1])).click()\n",
    "        driver.find_element_by_xpath(\".//select[@name='dlDateDay' and \\\n",
    "                                        @class='inputBold'] \\\n",
    "                                        /option[text()='{}']\".format(time[2])).click()\n",
    "\n",
    "        # click radio button 'CSV'\n",
    "        driver.find_element_by_css_selector(\"input[name='dataForm'][type='radio'][value='csv']\").click()\n",
    "\n",
    "        # wait for 5 secs before downloading\n",
    "        driver.implicitly_wait(5)\n",
    "\n",
    "        # Okay, download the file\n",
    "        driver.find_element_by_css_selector(\"input[class='inputBold'][type='submit'][name='dl'][value='ダウンロード']\").click()\n",
    "    except NoSuchElementException:\n",
    "        print (datetime)\n",
    "    \n",
    "for d in date_generated:\n",
    "    dd = d.strftime(\"%Y-%m-%d\").split('-')\n",
    "    if dd[1][0] == '0':\n",
    "        dd[1] = dd[1][1]\n",
    "    if dd[2][0] == '0':\n",
    "        dd[2] = dd[2][1]\n",
    "    AutoClick(dd)"
   ]
  },
  {
   "cell_type": "code",
   "execution_count": 52,
   "metadata": {},
   "outputs": [],
   "source": [
    "import glob, os\n",
    "\n",
    "names = glob.glob('yourdownloadfolder/R*.csv')\n",
    "with open ('somepath/2018_jsda.csv', 'w', encoding='shiftjis') as f:\n",
    "    for idx, n in enumerate(names):\n",
    "        with open (n, 'r', encoding='shiftjis') as ff:\n",
    "            cache = ff.read()\n",
    "        if idx == 0:\n",
    "            f.write(cache)\n",
    "        else:\n",
    "            f.write('\\n'+cache)\n",
    "        os.remove(n)"
   ]
  },
  {
   "cell_type": "code",
   "execution_count": 53,
   "metadata": {},
   "outputs": [],
   "source": [
    "driver.quit()"
   ]
  },
  {
   "cell_type": "code",
   "execution_count": 58,
   "metadata": {},
   "outputs": [],
   "source": [
    "with open ('somepath/2018_jsda.csv', 'r', encoding='shiftjis') as f:\n",
    "    test = f.read()\n",
    "test = test.split('\\n')\n",
    "dates_t = [x[:x.find(',')] for x in test]"
   ]
  }
 ],
 "metadata": {
  "kernelspec": {
   "display_name": "Python 3",
   "language": "python",
   "name": "python3"
  },
  "language_info": {
   "codemirror_mode": {
    "name": "ipython",
    "version": 3
   },
   "file_extension": ".py",
   "mimetype": "text/x-python",
   "name": "python",
   "nbconvert_exporter": "python",
   "pygments_lexer": "ipython3",
   "version": "3.7.0"
  }
 },
 "nbformat": 4,
 "nbformat_minor": 2
}
